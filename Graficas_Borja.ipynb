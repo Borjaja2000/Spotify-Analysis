{
 "cells": [
  {
   "cell_type": "code",
   "execution_count": 1,
   "metadata": {},
   "outputs": [],
   "source": [
    "import numpy as np\n",
    "import pandas as pd\n",
    "import seaborn as sns\n",
    "import matplotlib.pyplot as plt\n",
    "import plotly.express as px\n",
    "import plotly.graph_objects as go\n",
    "import altair as alt"
   ]
  },
  {
   "cell_type": "code",
   "execution_count": null,
   "metadata": {},
   "outputs": [],
   "source": [
    "df = pd.read_csv('spotify_data_cleaned.zip', compression='zip')\n",
    "df.head()"
   ]
  },
  {
   "cell_type": "code",
   "execution_count": null,
   "metadata": {},
   "outputs": [],
   "source": [
    "sns.catplot(x='key', y='popularity', data=df, kind='box', height=5, aspect=2)"
   ]
  },
  {
   "cell_type": "code",
   "execution_count": 4,
   "metadata": {},
   "outputs": [],
   "source": [
    "muestra = df.sample(frac=0.1)"
   ]
  },
  {
   "cell_type": "code",
   "execution_count": null,
   "metadata": {},
   "outputs": [],
   "source": [
    "corr_matrix = df.corr(method='spearman', numeric_only=True)\n",
    "\n",
    "plt.figure(figsize=(8, 6))\n",
    "sns.heatmap(corr_matrix, annot=True, cmap='coolwarm', vmin=-1, vmax=1)\n",
    "plt.title('Mapa de calor de la Correlación de Spearman')\n",
    "plt.show()"
   ]
  },
  {
   "cell_type": "code",
   "execution_count": null,
   "metadata": {
    "vscode": {
     "languageId": "ruby"
    }
   },
   "outputs": [],
   "source": [
    "df_aux = df\n",
    "df_aux['loudness_color'] = df_aux['loudness'].apply(lambda x: 'Menor que cero' if x < 0 else 'Mayor o igual a cero')\n",
    "\n",
    "color_map = {'Menor que cero': '#add8e6', 'Mayor o igual a cero': '#2874A6 '}\n",
    "fig = px.histogram(df_aux, x='loudness', y=\"energy\", histfunc='avg', \n",
    "                title='Histograma del Volumen con la Energía Promedio',\n",
    "                color='loudness_color',\n",
    "                labels={'loudness': 'Volumen', 'energy': 'Energía'},\n",
    "                color_discrete_map=color_map,\n",
    "                nbins=30) \n",
    "\n",
    "box = go.Figure(go.Box(x=df['loudness'], boxmean=True, name=\"Boxplot\", marker_color=\"#cccccc\"))\n",
    "\n",
    "for trace in box.data:\n",
    "    fig.add_trace(go.Box(x=trace['x'], boxmean=True, marker_color=\"#148F77\"))\n",
    "\n",
    "fig.update_layout(xaxis_title='Loudness', yaxis_title='Energy', showlegend=False)\n",
    "\n",
    "fig.show()\n",
    "\n",
    "\n"
   ]
  },
  {
   "cell_type": "code",
   "execution_count": null,
   "metadata": {
    "vscode": {
     "languageId": "ruby"
    }
   },
   "outputs": [],
   "source": [
    "songs_per_artist = df.groupby('artist_name', as_index=False)['track_name'].count()\n",
    "\n",
    "songs_per_artist.rename(columns={'track_name': 'song_count'}, inplace=True)\n",
    "\n",
    "top_50_artists = songs_per_artist.sort_values(by='song_count', ascending=False).head(50)\n",
    "\n",
    "fig = px.treemap(top_50_artists, \n",
    "                path=['artist_name'], \n",
    "                values='song_count',\n",
    "                color='song_count', \n",
    "                color_continuous_scale='RdYlGn',\n",
    "                title='Top 50 Artistas con Más Canciones')\n",
    "\n",
    "fig.update_traces(hovertemplate='Artista: %{label}<br>Número de Canciones: %{value}')\n",
    "\n",
    "fig.show()"
   ]
  },
  {
   "cell_type": "code",
   "execution_count": null,
   "metadata": {
    "vscode": {
     "languageId": "ruby"
    }
   },
   "outputs": [],
   "source": [
    "df['genre'] = df['genre'].apply(lambda x: x.capitalize())\n",
    "\n",
    "artist_info = df.groupby('artist_name').agg({\n",
    "    'popularity': 'mean',\n",
    "    'genre': 'first'  # Concatena géneros únicos\n",
    "}).reset_index()\n",
    "\n",
    "artist_info.rename(columns={'popularity': 'average_popularity'}, inplace=True)\n",
    "\n",
    "top_50_artists = artist_info.sort_values(by='average_popularity', ascending=False).head(50)\n",
    "\n",
    "fig = px.treemap(top_50_artists, \n",
    "                path=['artist_name'], \n",
    "                values='average_popularity',\n",
    "                color='average_popularity', \n",
    "                color_continuous_scale='RdYlGn',\n",
    "                title='Top 50 Artistas con la media más alta de popularidad',\n",
    "                custom_data=['genre'],\n",
    "                hover_data={\n",
    "                    'genre': True,  # Incluye 'genre' en el hover sin cambiar el nombre\n",
    "                    'average_popularity': ':.2f'  # Formatea 'average_popularity'\n",
    "                })\n",
    "\n",
    "fig.update_traces(hovertemplate='Artista: %{label}<br>Popularidad Media: %{value:.2f}<br>Género(s): %{customdata[0]}')\n",
    "\n",
    "fig.show()"
   ]
  }
 ],
 "metadata": {
  "kernelspec": {
   "display_name": "Python 3",
   "language": "python",
   "name": "python3"
  },
  "language_info": {
   "codemirror_mode": {
    "name": "ipython",
    "version": 3
   },
   "file_extension": ".py",
   "mimetype": "text/x-python",
   "name": "python",
   "nbconvert_exporter": "python",
   "pygments_lexer": "ipython3",
   "version": "3.11.9"
  }
 },
 "nbformat": 4,
 "nbformat_minor": 2
}
