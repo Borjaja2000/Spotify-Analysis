{
 "cells": [
  {
   "cell_type": "code",
   "execution_count": 51,
   "metadata": {},
   "outputs": [],
   "source": [
    "import numpy as np\n",
    "import pandas as pd\n",
    "import matplotlib.pyplot as plt\n",
    "from sklearn.preprocessing import StandardScaler\n",
    "from sklearn.linear_model import HuberRegressor\n",
    "from sklearn.model_selection import train_test_split\n",
    "from sklearn.metrics import mean_squared_error as mse"
   ]
  },
  {
   "cell_type": "code",
   "execution_count": 52,
   "metadata": {},
   "outputs": [],
   "source": [
    "df = pd.read_csv('spotify_data.zip')"
   ]
  },
  {
   "cell_type": "code",
   "execution_count": 53,
   "metadata": {},
   "outputs": [
    {
     "name": "stdout",
     "output_type": "stream",
     "text": [
      "<class 'pandas.core.frame.DataFrame'>\n",
      "RangeIndex: 1159764 entries, 0 to 1159763\n",
      "Data columns (total 20 columns):\n",
      " #   Column            Non-Null Count    Dtype  \n",
      "---  ------            --------------    -----  \n",
      " 0   Unnamed: 0        1159764 non-null  int64  \n",
      " 1   artist_name       1159749 non-null  object \n",
      " 2   track_name        1159763 non-null  object \n",
      " 3   track_id          1159764 non-null  object \n",
      " 4   popularity        1159764 non-null  int64  \n",
      " 5   year              1159764 non-null  int64  \n",
      " 6   genre             1159764 non-null  object \n",
      " 7   danceability      1159764 non-null  float64\n",
      " 8   energy            1159764 non-null  float64\n",
      " 9   key               1159764 non-null  int64  \n",
      " 10  loudness          1159764 non-null  float64\n",
      " 11  mode              1159764 non-null  int64  \n",
      " 12  speechiness       1159764 non-null  float64\n",
      " 13  acousticness      1159764 non-null  float64\n",
      " 14  instrumentalness  1159764 non-null  float64\n",
      " 15  liveness          1159764 non-null  float64\n",
      " 16  valence           1159764 non-null  float64\n",
      " 17  tempo             1159764 non-null  float64\n",
      " 18  duration_ms       1159764 non-null  int64  \n",
      " 19  time_signature    1159764 non-null  int64  \n",
      "dtypes: float64(9), int64(7), object(4)\n",
      "memory usage: 177.0+ MB\n"
     ]
    }
   ],
   "source": [
    "df.info()"
   ]
  },
  {
   "cell_type": "code",
   "execution_count": 54,
   "metadata": {},
   "outputs": [],
   "source": [
    "def clean_outliers(df_aux, columns: list)->pd.DataFrame:\n",
    "    \"\"\"\n",
    "    Función que elimina los valores atípicos de un dataframe en base a los cuartiles.\n",
    "    \n",
    "    Args: df_aux: DataFrame a limpiar.\n",
    "        columns: Lista de columnas a limpiar.\n",
    "    Returns: DataFrame sin valores atípicos\n",
    "    \"\"\"\n",
    "    for column in columns:\n",
    "        Q1 = df_aux[column].quantile(0.25)\n",
    "        Q3 = df_aux[column].quantile(0.75)\n",
    "        IQR = Q3 - Q1\n",
    "        df_aux = df_aux[(df_aux[column] >= Q1-1.5*IQR) & (df_aux[column] <= Q3 + 1.5*IQR)]\n",
    "    return df_aux"
   ]
  },
  {
   "cell_type": "code",
   "execution_count": 55,
   "metadata": {},
   "outputs": [],
   "source": [
    "df = clean_outliers(df, ['loudness', 'speechiness', 'acousticness', 'instrumentalness', 'liveness', 'valence', 'danceability', 'energy'])"
   ]
  },
  {
   "cell_type": "code",
   "execution_count": 56,
   "metadata": {},
   "outputs": [],
   "source": [
    "def normalize_data(df:pd.DataFrame, columns:list[str]):\n",
    "    # restar la media y dividir entre la desviacion tipica\n",
    "    for column in columns:\n",
    "        df[column] = (df[column] - df[column].mean()) / df[column].std()\n",
    "    return df"
   ]
  },
  {
   "cell_type": "code",
   "execution_count": 57,
   "metadata": {},
   "outputs": [],
   "source": [
    "df[\"loudness\"] = StandardScaler().fit_transform(df[[\"loudness\"]])"
   ]
  },
  {
   "cell_type": "code",
   "execution_count": 58,
   "metadata": {},
   "outputs": [],
   "source": [
    "df = normalize_data(df, [\"acousticness\", \"danceability\", \"energy\", \"instrumentalness\", \"liveness\", \"loudness\", \"speechiness\", \"valence\"])"
   ]
  },
  {
   "cell_type": "code",
   "execution_count": 59,
   "metadata": {},
   "outputs": [],
   "source": [
    "# df = df.sample(frac=0.3, random_state=42)"
   ]
  },
  {
   "cell_type": "code",
   "execution_count": 61,
   "metadata": {},
   "outputs": [],
   "source": [
    "df_aux = df[df[\"popularity\"] >= 50]"
   ]
  },
  {
   "cell_type": "markdown",
   "metadata": {},
   "source": [
    "### Regresion"
   ]
  },
  {
   "cell_type": "code",
   "execution_count": 71,
   "metadata": {},
   "outputs": [],
   "source": [
    "X, y = df_aux.drop(columns={\"Unnamed: 0\", \"popularity\", \"artist_name\", \"track_name\", \"track_id\", \"genre\", \"duration_ms\", \"time_signature\", \"key\", \"mode\", \"tempo\"}, axis=1), df_aux['popularity']\n",
    "X_train, X_test, y_train, y_test = train_test_split(X, y, test_size = .25, random_state=15)"
   ]
  },
  {
   "cell_type": "code",
   "execution_count": 64,
   "metadata": {},
   "outputs": [
    {
     "data": {
      "text/html": [
       "<div>\n",
       "<style scoped>\n",
       "    .dataframe tbody tr th:only-of-type {\n",
       "        vertical-align: middle;\n",
       "    }\n",
       "\n",
       "    .dataframe tbody tr th {\n",
       "        vertical-align: top;\n",
       "    }\n",
       "\n",
       "    .dataframe thead th {\n",
       "        text-align: right;\n",
       "    }\n",
       "</style>\n",
       "<table border=\"1\" class=\"dataframe\">\n",
       "  <thead>\n",
       "    <tr style=\"text-align: right;\">\n",
       "      <th></th>\n",
       "      <th>year</th>\n",
       "      <th>danceability</th>\n",
       "      <th>energy</th>\n",
       "      <th>loudness</th>\n",
       "      <th>speechiness</th>\n",
       "      <th>acousticness</th>\n",
       "      <th>instrumentalness</th>\n",
       "      <th>liveness</th>\n",
       "      <th>valence</th>\n",
       "    </tr>\n",
       "  </thead>\n",
       "  <tbody>\n",
       "    <tr>\n",
       "      <th>838735</th>\n",
       "      <td>2005</td>\n",
       "      <td>0.653244</td>\n",
       "      <td>0.092183</td>\n",
       "      <td>0.483433</td>\n",
       "      <td>-0.789793</td>\n",
       "      <td>-0.778212</td>\n",
       "      <td>-0.680122</td>\n",
       "      <td>-0.761285</td>\n",
       "      <td>1.381445</td>\n",
       "    </tr>\n",
       "    <tr>\n",
       "      <th>40643</th>\n",
       "      <td>2012</td>\n",
       "      <td>1.634841</td>\n",
       "      <td>-0.064693</td>\n",
       "      <td>1.003894</td>\n",
       "      <td>-0.101393</td>\n",
       "      <td>0.618427</td>\n",
       "      <td>-0.333984</td>\n",
       "      <td>-0.078991</td>\n",
       "      <td>1.848226</td>\n",
       "    </tr>\n",
       "    <tr>\n",
       "      <th>43793</th>\n",
       "      <td>2012</td>\n",
       "      <td>0.601581</td>\n",
       "      <td>0.913717</td>\n",
       "      <td>0.866902</td>\n",
       "      <td>-0.655173</td>\n",
       "      <td>-0.803780</td>\n",
       "      <td>-0.680152</td>\n",
       "      <td>-0.249564</td>\n",
       "      <td>1.460497</td>\n",
       "    </tr>\n",
       "    <tr>\n",
       "      <th>542085</th>\n",
       "      <td>2022</td>\n",
       "      <td>-0.781839</td>\n",
       "      <td>0.315112</td>\n",
       "      <td>0.860700</td>\n",
       "      <td>-0.300264</td>\n",
       "      <td>-0.846104</td>\n",
       "      <td>-0.680143</td>\n",
       "      <td>2.174375</td>\n",
       "      <td>-1.155738</td>\n",
       "    </tr>\n",
       "    <tr>\n",
       "      <th>232777</th>\n",
       "      <td>2016</td>\n",
       "      <td>-1.516601</td>\n",
       "      <td>-1.790326</td>\n",
       "      <td>-1.810908</td>\n",
       "      <td>-0.792853</td>\n",
       "      <td>2.068309</td>\n",
       "      <td>0.468114</td>\n",
       "      <td>-0.572756</td>\n",
       "      <td>-1.193382</td>\n",
       "    </tr>\n",
       "    <tr>\n",
       "      <th>...</th>\n",
       "      <td>...</td>\n",
       "      <td>...</td>\n",
       "      <td>...</td>\n",
       "      <td>...</td>\n",
       "      <td>...</td>\n",
       "      <td>...</td>\n",
       "      <td>...</td>\n",
       "      <td>...</td>\n",
       "      <td>...</td>\n",
       "    </tr>\n",
       "    <tr>\n",
       "      <th>801565</th>\n",
       "      <td>2004</td>\n",
       "      <td>1.164133</td>\n",
       "      <td>-1.418778</td>\n",
       "      <td>-0.218515</td>\n",
       "      <td>-0.373693</td>\n",
       "      <td>0.425912</td>\n",
       "      <td>-0.680149</td>\n",
       "      <td>-0.411160</td>\n",
       "      <td>-0.338871</td>\n",
       "    </tr>\n",
       "    <tr>\n",
       "      <th>1057606</th>\n",
       "      <td>2009</td>\n",
       "      <td>-0.483342</td>\n",
       "      <td>0.459603</td>\n",
       "      <td>0.375835</td>\n",
       "      <td>-0.309443</td>\n",
       "      <td>-0.667215</td>\n",
       "      <td>0.133203</td>\n",
       "      <td>-0.581734</td>\n",
       "      <td>-1.432043</td>\n",
       "    </tr>\n",
       "    <tr>\n",
       "      <th>119771</th>\n",
       "      <td>2014</td>\n",
       "      <td>-0.942568</td>\n",
       "      <td>-1.030717</td>\n",
       "      <td>-0.266246</td>\n",
       "      <td>-0.083035</td>\n",
       "      <td>-0.365206</td>\n",
       "      <td>-0.680109</td>\n",
       "      <td>0.800809</td>\n",
       "      <td>-0.839531</td>\n",
       "    </tr>\n",
       "    <tr>\n",
       "      <th>272539</th>\n",
       "      <td>2017</td>\n",
       "      <td>-0.035596</td>\n",
       "      <td>0.447218</td>\n",
       "      <td>0.418443</td>\n",
       "      <td>-0.358395</td>\n",
       "      <td>-0.852293</td>\n",
       "      <td>-0.680129</td>\n",
       "      <td>-0.644576</td>\n",
       "      <td>-0.432980</td>\n",
       "    </tr>\n",
       "    <tr>\n",
       "      <th>264878</th>\n",
       "      <td>2017</td>\n",
       "      <td>0.785272</td>\n",
       "      <td>0.149980</td>\n",
       "      <td>0.798946</td>\n",
       "      <td>-0.431825</td>\n",
       "      <td>-0.814609</td>\n",
       "      <td>-0.680135</td>\n",
       "      <td>1.958914</td>\n",
       "      <td>-0.327578</td>\n",
       "    </tr>\n",
       "  </tbody>\n",
       "</table>\n",
       "<p>30783 rows × 9 columns</p>\n",
       "</div>"
      ],
      "text/plain": [
       "         year  danceability    energy  loudness  speechiness  acousticness  \\\n",
       "838735   2005      0.653244  0.092183  0.483433    -0.789793     -0.778212   \n",
       "40643    2012      1.634841 -0.064693  1.003894    -0.101393      0.618427   \n",
       "43793    2012      0.601581  0.913717  0.866902    -0.655173     -0.803780   \n",
       "542085   2022     -0.781839  0.315112  0.860700    -0.300264     -0.846104   \n",
       "232777   2016     -1.516601 -1.790326 -1.810908    -0.792853      2.068309   \n",
       "...       ...           ...       ...       ...          ...           ...   \n",
       "801565   2004      1.164133 -1.418778 -0.218515    -0.373693      0.425912   \n",
       "1057606  2009     -0.483342  0.459603  0.375835    -0.309443     -0.667215   \n",
       "119771   2014     -0.942568 -1.030717 -0.266246    -0.083035     -0.365206   \n",
       "272539   2017     -0.035596  0.447218  0.418443    -0.358395     -0.852293   \n",
       "264878   2017      0.785272  0.149980  0.798946    -0.431825     -0.814609   \n",
       "\n",
       "         instrumentalness  liveness   valence  \n",
       "838735          -0.680122 -0.761285  1.381445  \n",
       "40643           -0.333984 -0.078991  1.848226  \n",
       "43793           -0.680152 -0.249564  1.460497  \n",
       "542085          -0.680143  2.174375 -1.155738  \n",
       "232777           0.468114 -0.572756 -1.193382  \n",
       "...                   ...       ...       ...  \n",
       "801565          -0.680149 -0.411160 -0.338871  \n",
       "1057606          0.133203 -0.581734 -1.432043  \n",
       "119771          -0.680109  0.800809 -0.839531  \n",
       "272539          -0.680129 -0.644576 -0.432980  \n",
       "264878          -0.680135  1.958914 -0.327578  \n",
       "\n",
       "[30783 rows x 9 columns]"
      ]
     },
     "execution_count": 64,
     "metadata": {},
     "output_type": "execute_result"
    }
   ],
   "source": [
    "X_train"
   ]
  },
  {
   "cell_type": "code",
   "execution_count": null,
   "metadata": {},
   "outputs": [],
   "source": [
    "epsilon = 100\n",
    "max_iter = 500\n",
    "\n",
    "model = HuberRegressor(epsilon=epsilon, max_iter=max_iter)\n",
    "model.fit(X_train, y_train) \n",
    "mse_SVR = mse(y_test,model.predict(X_test))\n",
    "print(mse_SVR)"
   ]
  },
  {
   "cell_type": "code",
   "execution_count": 66,
   "metadata": {},
   "outputs": [
    {
     "name": "stderr",
     "output_type": "stream",
     "text": [
      "[Parallel(n_jobs=1)]: Done  49 tasks      | elapsed:   13.3s\n",
      "[Parallel(n_jobs=1)]: Done 199 tasks      | elapsed:   53.7s\n",
      "[Parallel(n_jobs=1)]: Done  49 tasks      | elapsed:    0.0s\n"
     ]
    },
    {
     "name": "stdout",
     "output_type": "stream",
     "text": [
      "47.631559365748736\n"
     ]
    },
    {
     "name": "stderr",
     "output_type": "stream",
     "text": [
      "[Parallel(n_jobs=1)]: Done 199 tasks      | elapsed:    0.3s\n"
     ]
    }
   ],
   "source": [
    "#Librerías\n",
    "from sklearn.ensemble import RandomForestRegressor\n",
    "#Inicializamos modelo y parámetros\n",
    "n_estimators = 200 #Estimadores del modelo\n",
    "criterion = 'squared_error' #Forma de calcular el error\n",
    "max_depth = None #Límite de profundidad de los árboles\n",
    "min_samples_split = 2 #Criterio de parada de profundidad\n",
    "verbose = 1 #Información devuelta por el método\n",
    "#Instanciamos el modelo\n",
    "model = RandomForestRegressor(n_estimators=n_estimators, criterion=criterion, max_depth=max_depth, min_samples_split=min_samples_split, verbose=verbose)\n",
    "#Entrenamos modelo y elaboramos predicciones\n",
    "model.fit(X_train, y_train)\n",
    "mse_RF = mse(y_test,model.predict(X_test))\n",
    "print(mse_RF)"
   ]
  },
  {
   "cell_type": "code",
   "execution_count": 67,
   "metadata": {},
   "outputs": [
    {
     "name": "stdout",
     "output_type": "stream",
     "text": [
      "46.79619859919413\n"
     ]
    }
   ],
   "source": [
    "#Librerías\n",
    "import xgboost as xgb\n",
    "#Inicializamos modelo y parámetros\n",
    "params = {\"booster\":\"gbtree\", \"max_depth\": 2, \"eta\": 0.3, \"objective\": \"reg:squarederror\", \"nthread\":2}\n",
    "num_boost_round = 10\n",
    "train_data = xgb.DMatrix(X_train, label=y_train)\n",
    "test_data = xgb.DMatrix(X_test, label=y_test)\n",
    "#Instanciamos el modelo, entrenamos y elaboramos predicciones\n",
    "model = xgb.train(params = params, dtrain = train_data, num_boost_round=num_boost_round)\n",
    "mse_XGB = mse(y_test,model.predict(test_data))\n",
    "print(mse_XGB)"
   ]
  },
  {
   "cell_type": "code",
   "execution_count": 68,
   "metadata": {},
   "outputs": [
    {
     "name": "stdout",
     "output_type": "stream",
     "text": [
      "51.059615593146546\n"
     ]
    }
   ],
   "source": [
    "#Librerías\n",
    "from sklearn import svm\n",
    "#Inicializamos modelo y parámetros\n",
    "C = 1 #Parámetro regularizador\n",
    "kernel = 'rbf' #Núcleo transformador\n",
    "#Instanciamos el modelo\n",
    "model = svm.SVR(C = C, kernel = kernel)\n",
    "#Entrenamos modelo y elaboramos predicciones\n",
    "model.fit(X_train, y_train)\n",
    "mse_SVR = mse(y_test,model.predict(X_test))\n",
    "print(mse_SVR)"
   ]
  },
  {
   "cell_type": "code",
   "execution_count": 69,
   "metadata": {},
   "outputs": [
    {
     "data": {
      "text/plain": [
       "Text(0.5, 0, 'Modelo')"
      ]
     },
     "execution_count": 69,
     "metadata": {},
     "output_type": "execute_result"
    },
    {
     "data": {
      "image/png": "[encoded data removed]",
      "text/plain": [
       "<Figure size 640x480 with 1 Axes>"
      ]
     },
     "metadata": {},
     "output_type": "display_data"
    }
   ],
   "source": [
    "mse = [mse_SVR, mse_RF, mse_XGB]\n",
    "plt.scatter(['SVR', 'RF', 'XGB'], mse)\n",
    "plt.ylabel('mse')\n",
    "plt.xlabel('Modelo')"
   ]
  },
  {
   "cell_type": "markdown",
   "metadata": {},
   "source": [
    "### Clasificacion"
   ]
  },
  {
   "cell_type": "code",
   "execution_count": 10,
   "metadata": {},
   "outputs": [],
   "source": [
    "from sklearn.metrics import classification_report"
   ]
  },
  {
   "cell_type": "code",
   "execution_count": 11,
   "metadata": {},
   "outputs": [],
   "source": [
    "def popularity(x):\n",
    "    if 25 > x >= 0 :\n",
    "        return \"Baja popularidad\"\n",
    "    elif 50 > x >= 25:\n",
    "        return \"Popularidad media\"\n",
    "    else:\n",
    "        return \"Alta popularidad\" "
   ]
  },
  {
   "cell_type": "code",
   "execution_count": 12,
   "metadata": {},
   "outputs": [],
   "source": [
    "def popularity(x):\n",
    "    if 50 > x >= 0 :\n",
    "        return \"Baja popularidad\"\n",
    "    else:\n",
    "        return \"Alta popularidad\""
   ]
  },
  {
   "cell_type": "code",
   "execution_count": 13,
   "metadata": {},
   "outputs": [],
   "source": [
    "df[\"popularity_target\"] = df[\"popularity\"].apply(lambda x: popularity(x))"
   ]
  },
  {
   "cell_type": "code",
   "execution_count": 14,
   "metadata": {},
   "outputs": [
    {
     "data": {
      "text/plain": [
       "popularity_target\n",
       "Baja popularidad    849109\n",
       "Alta popularidad     41044\n",
       "Name: count, dtype: int64"
      ]
     },
     "execution_count": 14,
     "metadata": {},
     "output_type": "execute_result"
    }
   ],
   "source": [
    "df[\"popularity_target\"].value_counts()"
   ]
  },
  {
   "cell_type": "code",
   "execution_count": 15,
   "metadata": {},
   "outputs": [],
   "source": [
    "X, y = df.drop(columns={\"Unnamed: 0\", \"popularity\", \"artist_name\", \"track_name\", \"track_id\", \"genre\", \"duration_ms\", \"time_signature\", \"key\", \"mode\", \"tempo\", \"popularity_target\"}, axis=1), df['popularity_target']\n",
    "X_train, X_test, y_train, y_test = train_test_split(X, y, test_size = .25, random_state=15)"
   ]
  },
  {
   "cell_type": "code",
   "execution_count": 16,
   "metadata": {},
   "outputs": [
    {
     "name": "stderr",
     "output_type": "stream",
     "text": [
      "C:\\Users\\NITROPC\\AppData\\Local\\Packages\\PythonSoftwareFoundation.Python.3.11_qbz5n2kfra8p0\\LocalCache\\local-packages\\Python311\\site-packages\\sklearn\\linear_model\\_logistic.py:469: ConvergenceWarning: lbfgs failed to converge (status=1):\n",
      "STOP: TOTAL NO. of ITERATIONS REACHED LIMIT.\n",
      "\n",
      "Increase the number of iterations (max_iter) or scale the data as shown in:\n",
      "    https://scikit-learn.org/stable/modules/preprocessing.html\n",
      "Please also refer to the documentation for alternative solver options:\n",
      "    https://scikit-learn.org/stable/modules/linear_model.html#logistic-regression\n",
      "  n_iter_i = _check_optimize_result(\n"
     ]
    },
    {
     "name": "stdout",
     "output_type": "stream",
     "text": [
      "                  precision    recall  f1-score   support\n",
      "\n",
      "Alta popularidad       0.00      0.00      0.00     10325\n",
      "Baja popularidad       0.95      1.00      0.98    212214\n",
      "\n",
      "        accuracy                           0.95    222539\n",
      "       macro avg       0.48      0.50      0.49    222539\n",
      "    weighted avg       0.91      0.95      0.93    222539\n",
      "\n"
     ]
    }
   ],
   "source": [
    "from sklearn.linear_model import LogisticRegression\n",
    "# Create an instance of Logistic Regression Classifier and fit the data.\n",
    "logreg = LogisticRegression(max_iter =100)\n",
    "logreg.fit(X_train, y_train)\n",
    "y_pred = logreg.predict(X_test)\n",
    "print(classification_report(y_test, y_pred))"
   ]
  },
  {
   "cell_type": "code",
   "execution_count": 17,
   "metadata": {},
   "outputs": [
    {
     "name": "stdout",
     "output_type": "stream",
     "text": [
      "                  precision    recall  f1-score   support\n",
      "\n",
      "Alta popularidad       0.30      0.03      0.05     10325\n",
      "Baja popularidad       0.95      1.00      0.98    212214\n",
      "\n",
      "        accuracy                           0.95    222539\n",
      "       macro avg       0.63      0.51      0.51    222539\n",
      "    weighted avg       0.92      0.95      0.93    222539\n",
      "\n"
     ]
    }
   ],
   "source": [
    "from sklearn.neighbors import KNeighborsClassifier\n",
    "#Parámetros\n",
    "weights = 'distance'\n",
    "p = 2\n",
    "n_neighbours = 10\n",
    "#Modelo\n",
    "clf = KNeighborsClassifier(n_neighbors = n_neighbours, weights = weights, p = p)\n",
    "\n",
    "clf.fit(X_train, y_train)\n",
    "\n",
    "y_pred = clf.predict(X_test)\n",
    "\n",
    "\n",
    "print(classification_report(y_test, y_pred))"
   ]
  },
  {
   "cell_type": "code",
   "execution_count": 18,
   "metadata": {},
   "outputs": [
    {
     "name": "stdout",
     "output_type": "stream",
     "text": [
      "                  precision    recall  f1-score   support\n",
      "\n",
      "Alta popularidad       0.33      0.01      0.02     10325\n",
      "Baja popularidad       0.95      1.00      0.98    212214\n",
      "\n",
      "        accuracy                           0.95    222539\n",
      "       macro avg       0.64      0.51      0.50    222539\n",
      "    weighted avg       0.92      0.95      0.93    222539\n",
      "\n"
     ]
    }
   ],
   "source": [
    "from sklearn.naive_bayes import GaussianNB\n",
    "#Tratamos datos como pd.DataFrame\n",
    "#Modelo\n",
    "nbmodelo = GaussianNB()\n",
    "\n",
    "nbmodelo.fit(X_train, y_train)\n",
    "y_pred = nbmodelo.predict(X_test)\n",
    "\n",
    "print(classification_report(y_test, y_pred))"
   ]
  },
  {
   "cell_type": "code",
   "execution_count": 19,
   "metadata": {},
   "outputs": [
    {
     "name": "stdout",
     "output_type": "stream",
     "text": [
      "                  precision    recall  f1-score   support\n",
      "\n",
      "Alta popularidad       0.45      0.01      0.03     10325\n",
      "Baja popularidad       0.95      1.00      0.98    212214\n",
      "\n",
      "        accuracy                           0.95    222539\n",
      "       macro avg       0.70      0.51      0.50    222539\n",
      "    weighted avg       0.93      0.95      0.93    222539\n",
      "\n"
     ]
    }
   ],
   "source": [
    "from sklearn.ensemble import RandomForestClassifier\n",
    "RFC = RandomForestClassifier()\n",
    "RFC.fit(X_train, y_train)\n",
    "y_preds = RFC.predict(X_test)\n",
    "print(classification_report(y_test, y_preds))"
   ]
  },
  {
   "cell_type": "code",
   "execution_count": 20,
   "metadata": {},
   "outputs": [
    {
     "name": "stdout",
     "output_type": "stream",
     "text": [
      "                  precision    recall  f1-score   support\n",
      "\n",
      "Alta popularidad       0.00      0.00      0.00     10325\n",
      "Baja popularidad       0.95      1.00      0.98    212214\n",
      "\n",
      "        accuracy                           0.95    222539\n",
      "       macro avg       0.48      0.50      0.49    222539\n",
      "    weighted avg       0.91      0.95      0.93    222539\n",
      "\n"
     ]
    }
   ],
   "source": [
    "from sklearn.ensemble import GradientBoostingClassifier\n",
    "clf = GradientBoostingClassifier(random_state=357, validation_fraction=0.1,n_iter_no_change=5, tol=0.01)\n",
    "clf.fit(X_train, y_train)\n",
    "# Make predictions\n",
    "y_pred = clf.predict(X_test) #comentario prueba\n",
    "print(classification_report(y_test, y_pred, zero_division=0))"
   ]
  }
 ],
 "metadata": {
  "kernelspec": {
   "display_name": "Python 3",
   "language": "python",
   "name": "python3"
  },
  "language_info": {
   "codemirror_mode": {
    "name": "ipython",
    "version": 3
   },
   "file_extension": ".py",
   "mimetype": "text/x-python",
   "name": "python",
   "nbconvert_exporter": "python",
   "pygments_lexer": "ipython3",
   "version": "3.11.9"
  }
 },
 "nbformat": 4,
 "nbformat_minor": 2
}
