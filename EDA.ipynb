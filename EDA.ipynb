{
 "cells": [
  {
   "cell_type": "markdown",
   "metadata": {},
   "source": [
    "# EDA"
   ]
  },
  {
   "cell_type": "markdown",
   "metadata": {},
   "source": [
    "### Importamos las librerías necesarias"
   ]
  },
  {
   "cell_type": "code",
   "execution_count": null,
   "metadata": {},
   "outputs": [],
   "source": [
    "import numpy as np\n",
    "import pandas as pd\n",
    "import seaborn as sns\n",
    "import matplotlib.pyplot as plt\n",
    "import plotly_express as px\n",
    "\n",
    "import warnings\n",
    "warnings.simplefilter(action='ignore', category=FutureWarning)\n",
    "\n",
    "import plotly.graph_objs as go\n",
    "import chart_studio.plotly as py\n",
    "from plotly.offline import iplot, init_notebook_mode\n",
    "import cufflinks\n",
    "cufflinks.go_offline(connected=True)\n",
    "init_notebook_mode(connected=True)"
   ]
  },
  {
   "cell_type": "markdown",
   "metadata": {},
   "source": [
    "### Leemos los datos"
   ]
  },
  {
   "cell_type": "code",
   "execution_count": 3,
   "metadata": {},
   "outputs": [],
   "source": [
    "df = pd.read_csv('spotify_data_cleaned.zip')"
   ]
  },
  {
   "cell_type": "markdown",
   "metadata": {},
   "source": [
    "#### Creamos una función para eliminar outliers"
   ]
  },
  {
   "cell_type": "code",
   "execution_count": 4,
   "metadata": {},
   "outputs": [],
   "source": [
    "def clean_outliers(df_aux, columns: list)->pd.DataFrame:\n",
    "    \"\"\"\n",
    "    Función para eliminar los outliers de un dataframe usando el rango intercuartílico.\n",
    "    \n",
    "    Args:\n",
    "    - df_aux (pd.Dataframe): dataframe a limpiar\n",
    "    - columns(list): lista de columnas a limpiar\n",
    "    \n",
    "    Returns:\n",
    "    - df_aux (pd.Dataframe): dataframe sin outliers\n",
    "    \"\"\"\n",
    "    for column in columns:\n",
    "        Q1 = df_aux[column].quantile(0.25)\n",
    "        Q3 = df_aux[column].quantile(0.75)\n",
    "        IQR = Q3 - Q1\n",
    "        df_aux = df_aux[(df_aux[column] >= Q1-1.5*IQR) & (df_aux[column] <= Q3 + 1.5*IQR)]\n",
    "    return df_aux"
   ]
  },
  {
   "cell_type": "markdown",
   "metadata": {},
   "source": [
    "### Distribución y correlación de las variables"
   ]
  },
  {
   "cell_type": "code",
   "execution_count": null,
   "metadata": {},
   "outputs": [],
   "source": [
    "# Columnas del dataframe de las que mostraremos su distribución\n",
    "features = [\n",
    "('popularity', 'Popularity'),\n",
    "('energy', 'Energy'),\n",
    "('danceability', 'Danceability'),\n",
    "('loudness', 'Loudness'),\n",
    "('speechiness', 'Speechiness'),\n",
    "('acousticness', 'Acousticness'),\n",
    "('instrumentalness', 'Instrumentalness'),\n",
    "('liveness', 'Liveness'),\n",
    "('valence', 'Valence'),\n",
    "('tempo', 'Tempo')\n",
    "]\n",
    "\n",
    "fig, ax = plt.subplots(5, 2, figsize=(10, 6))\n",
    "\n",
    "# Creamos todas las gráficas\n",
    "for i, (feature, title) in enumerate(features):\n",
    "    row, col = divmod(i, 2)\n",
    "    ax[row, col].hist(df[feature], bins=20, color=\"skyblue\", edgecolor='black', linewidth=0.8)\n",
    "    ax[row, col].title.set_text(title)\n",
    "\n",
    "fig.tight_layout()\n",
    "\n",
    "plt.savefig('imagenes/distribucion.png', dpi=275)"
   ]
  },
  {
   "cell_type": "markdown",
   "metadata": {},
   "source": [
    "### Mapa de calor de la Correlación de Spearman"
   ]
  },
  {
   "cell_type": "code",
   "execution_count": null,
   "metadata": {},
   "outputs": [],
   "source": [
    "corr_matrix = df.corr(method='spearman', numeric_only=True)\n",
    "\n",
    "plt.figure(figsize=(13, 13))\n",
    "sns.heatmap(corr_matrix, annot=True, cmap='coolwarm', fmt=\".2f\", vmin=-1, vmax=1)\n",
    "plt.title('Mapa de calor de la Correlación de Spearman')\n",
    "plt.savefig('imagenes/spearman.png', dpi=200)"
   ]
  },
  {
   "cell_type": "markdown",
   "metadata": {},
   "source": [
    "### Top 50 artistas con más canciones"
   ]
  },
  {
   "cell_type": "code",
   "execution_count": null,
   "metadata": {},
   "outputs": [],
   "source": [
    "songs_per_artist = df.groupby('artist_name', as_index=False)['track_name'].count() # Agrupamos el dataframe por artista y contamos el número de canciones\n",
    "\n",
    "songs_per_artist.rename(columns={'track_name': 'song_count'}, inplace=True)\n",
    "\n",
    "top_50_artists = songs_per_artist.sort_values(by='song_count', ascending=False).head(50) # Seleccionamos el top 50\n",
    "\n",
    "fig = px.treemap(top_50_artists, \n",
    "                path=['artist_name'], \n",
    "                values='song_count',\n",
    "                color='song_count', \n",
    "                color_continuous_scale='RdYlGn',\n",
    "                title='Top 50 Artistas con Más Canciones')\n",
    "\n",
    "fig.update_traces(hovertemplate='Artista: %{label}<br>Número de Canciones: %{value}')\n",
    "\n",
    "fig.show()"
   ]
  },
  {
   "cell_type": "markdown",
   "metadata": {},
   "source": [
    "### Top 50 Artistas con la media más alta de popularidad"
   ]
  },
  {
   "cell_type": "code",
   "execution_count": null,
   "metadata": {},
   "outputs": [],
   "source": [
    "df['genre'] = df['genre'].apply(lambda x: x.capitalize())\n",
    "\n",
    "artist_info = df.groupby('artist_name').agg({\n",
    "    'popularity': 'mean',\n",
    "    'genre': 'first'  # Concatena géneros únicos\n",
    "}).reset_index()\n",
    "\n",
    "artist_info.rename(columns={'popularity': 'average_popularity'}, inplace=True)\n",
    "\n",
    "top_50_artists = artist_info.sort_values(by='average_popularity', ascending=False).head(50)\n",
    "\n",
    "fig = px.treemap(top_50_artists, \n",
    "                path=['artist_name'], \n",
    "                values='average_popularity',\n",
    "                color='average_popularity', \n",
    "                color_continuous_scale='RdYlGn',\n",
    "                title='Top 50 Artistas con la media más alta de popularidad',\n",
    "                custom_data=['genre'],\n",
    "                hover_data={\n",
    "                    'genre': True,  # Incluye 'genre' en el hover sin cambiar el nombre\n",
    "                    'average_popularity': ':.2f'  # Formatea 'average_popularity'\n",
    "                })\n",
    "\n",
    "fig.update_traces(hovertemplate='Artista: %{label}<br>Popularidad Media: %{value:.2f}<br>Género(s): %{customdata[0]}')\n",
    "\n",
    "fig.show()"
   ]
  },
  {
   "cell_type": "markdown",
   "metadata": {},
   "source": [
    "### Volumen con la energía promedio"
   ]
  },
  {
   "cell_type": "code",
   "execution_count": null,
   "metadata": {},
   "outputs": [],
   "source": [
    "df_aux = df\n",
    "df_aux['loudness_color'] = df_aux['loudness'].apply(lambda x: 'Menor que cero' if x < 0 else 'Mayor o igual a cero') # Creamos una nueva columna para etiquetar los valores de loudness\n",
    "\n",
    "color_map = {'Menor que cero': '#add8e6', 'Mayor o igual a cero': '#2874A6 '} # Creamos un mapa de colores con las etiquetas de la columna loudness_color\n",
    "fig = px.histogram(df_aux, x='loudness', y=\"energy\", histfunc='avg', \n",
    "                title='Histograma del Volumen con la Energía Promedio',\n",
    "                color='loudness_color',\n",
    "                labels={'loudness': 'Volumen', 'energy': 'Energía'},\n",
    "                color_discrete_map=color_map,\n",
    "                nbins=30) \n",
    "\n",
    "box = go.Figure(go.Box(x=df['loudness'], boxmean=True, name=\"Boxplot\", marker_color=\"#cccccc\")) # Creamos un boxplot al borde del histograma\n",
    "\n",
    "for trace in box.data:\n",
    "    fig.add_trace(go.Box(x=trace['x'], boxmean=True, marker_color=\"#148F77\"))\n",
    "\n",
    "fig.update_layout(xaxis_title='Loudness', yaxis_title='Energy', showlegend=False)\n",
    "fig.show()\n",
    "fig.write_html('html/volumenenergia.html')\n"
   ]
  },
  {
   "cell_type": "markdown",
   "metadata": {},
   "source": [
    "### Popularidad de cada género por año"
   ]
  },
  {
   "cell_type": "code",
   "execution_count": null,
   "metadata": {},
   "outputs": [],
   "source": [
    "fig = px.histogram(y=df['popularity'], x=df['genre'], histfunc=\"avg\"\n",
    "            , animation_frame=df[\"year\"], title=\"Popularidad de los Géneros a lo largo de los años\"\n",
    "            , labels={\"y\": \"Popularidad\", \"x\": \"Género\", \"animation_frame\": \"Año\" }\n",
    "            , category_orders={\"animation_frame\": df[\"year\"].sort_values(ascending=True)} # Ordenamos ascendentemente los años en el animation frame\n",
    "            )\n",
    "fig.update_layout(xaxis_tickfont_size=11)\n",
    "fig.update_xaxes(categoryorder=\"total ascending\", tickangle=-35, title_standoff=0) # Ajustamos las etiquetas y el título del eje x para que no se superpongan con el animation frame\n",
    "fig.update_layout(yaxis_title='Media de Popularidad')\n",
    "fig.show()\n",
    "fig.write_html('html/popularidadgeneros.html', auto_play=False)\n"
   ]
  },
  {
   "cell_type": "markdown",
   "metadata": {},
   "source": [
    "### Top canciones con mayor popularidad"
   ]
  },
  {
   "cell_type": "code",
   "execution_count": 51,
   "metadata": {},
   "outputs": [],
   "source": [
    "# Ordenamos el dataframe por popularidad y guardamos en un df auxiliar el top X\n",
    "top=30\n",
    "df_aux = df.sort_values(by='popularity', ascending=False).head(top)"
   ]
  },
  {
   "cell_type": "code",
   "execution_count": null,
   "metadata": {},
   "outputs": [],
   "source": [
    "fig = px.area(df_aux, x='track_name', y='danceability', title=f'Top {top} canciones con mayor popularidad y su danceability' # Hacemos que el título sea dinámico\n",
    "        , hover_data=[\"artist_name\", \"popularity\"], labels={\"danceability\": \"Danceability\", \"track_name\": \"Canción\", \"artist_name\": \"Artista\", \"popularity\": \"Popularidad\"}\n",
    "        , markers=True)\n",
    "fig.show()"
   ]
  },
  {
   "cell_type": "markdown",
   "metadata": {},
   "source": [
    "### Bailabilidad y tempo"
   ]
  },
  {
   "cell_type": "markdown",
   "metadata": {},
   "source": [
    "#### Histograma"
   ]
  },
  {
   "cell_type": "code",
   "execution_count": null,
   "metadata": {},
   "outputs": [],
   "source": [
    "df_aux = clean_outliers(df, ['tempo']) # Limpiamos outliers para mostrar un gráfico más preciso\n",
    "fig = px.histogram(df_aux, x='tempo', y='danceability', title=f'Bailabilidad en base al tempo de las canciones'\n",
    "        , hover_data=[\"artist_name\", \"popularity\"]\n",
    "        , labels={\"danceability\": \"Danceability\", \"track_name\": \"Canción\", \"artist_name\": \"Artista\", \"popularity\": \"Popularidad\"}\n",
    "        , histfunc=\"avg\")\n",
    "fig.update_layout(xaxis_title='Tempo', yaxis_title='Media Bailabilidad')\n",
    "fig.show()\n",
    "fig.write_html('html/tempobailable.html')"
   ]
  },
  {
   "cell_type": "markdown",
   "metadata": {},
   "source": [
    "#### Histograma bivariado"
   ]
  },
  {
   "cell_type": "code",
   "execution_count": null,
   "metadata": {},
   "outputs": [],
   "source": [
    "ax = sns.histplot(df, x=\"tempo\", y=\"danceability\", bins=30\n",
    "                , cbar=True\n",
    "                , cbar_kws=dict(shrink=.75))\n",
    "ax.add_line(plt.axvline(df['tempo'].mean(), color='red', linestyle='--', label='Media', alpha=0.2))\n",
    "ax.xaxis.set_label_text(\"Tempo\")\n",
    "ax.yaxis.set_label_text(\"Danceability\")\n",
    "ax.set_title(\"Distribución de Tempo y Bailabilidad\")\n",
    "\n",
    "ax.figure.savefig('imagenes/tempobailable.png', dpi=200)"
   ]
  },
  {
   "cell_type": "markdown",
   "metadata": {},
   "source": [
    "### Energía vs popularidad"
   ]
  },
  {
   "cell_type": "code",
   "execution_count": null,
   "metadata": {},
   "outputs": [],
   "source": [
    "fig = px.histogram(df, x='popularity', y=\"energy\", title='Media de la energía en base a la popularidad según el año'\n",
    "        , labels={\"year\": \"Año\"}\n",
    "        , animation_frame=\"year\"\n",
    "        , category_orders={\"year\": df[\"year\"].sort_values(ascending=True)}\n",
    "        , range_y=[0, 1]\n",
    "        , range_x=[0, 100]\n",
    "        , histfunc=\"avg\")\n",
    "fig.update_layout(xaxis_title='Popularidad', yaxis_title='Media de Energía')\n",
    "fig.show()\n",
    "fig.write_html('html/energiapopularidad.html', auto_play=False)"
   ]
  },
  {
   "cell_type": "markdown",
   "metadata": {},
   "source": [
    "### Positividad vs popularidad"
   ]
  },
  {
   "cell_type": "code",
   "execution_count": null,
   "metadata": {},
   "outputs": [],
   "source": [
    "fig = px.histogram(df, x='popularity', y=\"valence\", title='Media de la positividad en base a la popularidad según el año'\n",
    "        , labels={\"year\": \"Año\"}\n",
    "        , animation_frame=\"year\"\n",
    "        , category_orders={\"year\": df[\"year\"].sort_values(ascending=True)}\n",
    "        , range_y=[0, 1]\n",
    "        , range_x=[0, 100]\n",
    "        , histfunc=\"avg\")\n",
    "fig.update_layout(xaxis_title='Popularidad', yaxis_title='Media de Positividad')\n",
    "fig.show()\n",
    "fig.write_html('html/positividadpopularidad.html', auto_play=False)"
   ]
  },
  {
   "cell_type": "markdown",
   "metadata": {},
   "source": [
    "### Popularidad según modo y según escala"
   ]
  },
  {
   "cell_type": "code",
   "execution_count": null,
   "metadata": {},
   "outputs": [],
   "source": [
    "fig = px.histogram(df, x='mode', y=\"popularity\", title='Media de la popularidad en base al modo'\n",
    "            , histfunc=\"avg\")\n",
    "fig.update_layout(xaxis_title='Modo', yaxis_title='Media de Popularidad')\n",
    "fig.update_traces(hovertemplate='Modo: %{x}<br>Media de Popularidad: %{y:.2f}')\n",
    "fig.show()\n",
    "fig.write_html('html/modopopularidad.html')"
   ]
  },
  {
   "cell_type": "code",
   "execution_count": null,
   "metadata": {},
   "outputs": [],
   "source": [
    "fig = px.histogram(df, x='key', y=\"popularity\", title='Media de la popularidad en base a la escala de la canción'\n",
    "            , labels={\"key\": \"Escala\"}\n",
    "            , color=\"key\"\n",
    "            , histfunc=\"avg\"\n",
    "            , category_orders={\"key\": [\"C\", \"C#\", \"D\", \"D#\", \"E\", \"F\", \"F#\", \"G\", \"G#\", \"A\", \"A#\", \"B\"]})\n",
    "fig.update_layout(xaxis_title='Escala', yaxis_title='Media de Popularidad')\n",
    "fig.update_traces(hovertemplate='Escala: %{x}<br>Media de Popularidad: %{y:.2f}')\n",
    "fig.show()\n",
    "fig.write_html('html/escalapopularidad.html')"
   ]
  },
  {
   "cell_type": "markdown",
   "metadata": {},
   "source": [
    "### Camino hacia la popularidad"
   ]
  },
  {
   "cell_type": "code",
   "execution_count": 59,
   "metadata": {},
   "outputs": [],
   "source": [
    "df_aux = df.sort_values(by='popularity', ascending=False).head(top) # Usamos de nuevo la variable top para hacer un gráfico dinámico\n",
    "fig = px.parallel_categories(df_aux, dimensions=['genre', 'key', 'mode', 'popularity'], color=\"popularity\", color_continuous_scale=px.colors.sequential.Agsunset\n",
    "                            , title=f'Top {top} canciones y su camino hacia la popularidad')"
   ]
  }
 ],
 "metadata": {
  "kernelspec": {
   "display_name": "Python 3",
   "language": "python",
   "name": "python3"
  },
  "language_info": {
   "codemirror_mode": {
    "name": "ipython",
    "version": 3
   },
   "file_extension": ".py",
   "mimetype": "text/x-python",
   "name": "python",
   "nbconvert_exporter": "python",
   "pygments_lexer": "ipython3",
   "version": "3.11.9"
  }
 },
 "nbformat": 4,
 "nbformat_minor": 2
}
